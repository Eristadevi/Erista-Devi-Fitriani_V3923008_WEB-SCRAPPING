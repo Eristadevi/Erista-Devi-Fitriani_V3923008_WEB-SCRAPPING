{
 "cells": [
  {
   "cell_type": "code",
   "execution_count": 1,
   "id": "84baf0a8",
   "metadata": {},
   "outputs": [
    {
     "name": "stdout",
     "output_type": "stream",
     "text": [
      "<Response [429]>\n",
      "<!DOCTYPE html>\n",
      "<html lang=\"en\">\n",
      "<head>\n",
      "    <meta charset=\"UTF-8\">\n",
      "    <meta http-equiv=\"X-UA-Compatible\" content=\"IE=edge\">\n",
      "    <meta name=\"viewport\" content=\"width=device-width, initial-scale=1.0\">\n",
      "    <title>\n",
      "        429\n",
      "        Too Many Requests\n",
      "    </title>\n",
      "\n",
      "    <link rel=\"stylesheet\" type=\"text/css\" href=\"https://static.domainesia.com/assets/fonts/842623/7F38FB22E551161E9.css\"/>\n",
      "    <style>\n",
      "        :root{font-family:'Whitney',Courier,monospace;font-size:16px;margin:0;padding:0;--color-blue:#0566C6;--color-gray:#9196A6}section{text-align:center;display:flex;flex-direction:column;justify-content:center;align-items:center;height:100vh;margin-top:-3rem;padding:0 1.2rem}h1{color:var(--color-blue);font-size:3rem;padding:0;margin:0}p{color:var(--color-gray);font-size:1.5rem;margin:30px 0}img{max-width:40rem}@media screen and (max-width:768px){img{max-width:100%}}\n",
      "    </style>\n",
      "</head>\n",
      "<body>\n",
      "    <section>\n",
      "        <h1>Whoops!</h1>\n",
      "        <p>\n",
      "            Too Many Requests\n",
      "        </p>\n",
      "        <img srcset=\"//static.domainesia.com/assets/slots/webcdn/server/img/error-code/svg/error-429.svg\" alt=\"Too Many Requests\" width=\"640\" height=\"342\">\n",
      "</body>\n",
      "</html>\n",
      "\n"
     ]
    }
   ],
   "source": [
    "import requests\n",
    "\n",
    "r = requests.get('https://vokasi.uns.ac.id/')\n",
    "\n",
    "print(r)\n",
    "print(r.text)\n"
   ]
  },
  {
   "cell_type": "code",
   "execution_count": 14,
   "id": "0648acd1",
   "metadata": {},
   "outputs": [
    {
     "name": "stdout",
     "output_type": "stream",
     "text": [
      "<title>Situs Belanja Online dan Jual Beli Mudah Terpercaya | Bukalapak</title>\n",
      "title\n",
      "head\n"
     ]
    }
   ],
   "source": [
    "import requests\n",
    "from bs4 import BeautifulSoup\n",
    "\n",
    "r = requests.get('https://www.bukalapak.com/')\n",
    "\n",
    "soup = BeautifulSoup(r.content, 'html.parser')\n",
    "\n",
    "print(soup.title)\n",
    "\n",
    "print(soup.title.name)\n",
    "\n",
    "print(soup.title.parent.name)"
   ]
  },
  {
   "cell_type": "code",
   "execution_count": 2,
   "id": "4442646d",
   "metadata": {},
   "outputs": [
    {
     "name": "stdout",
     "output_type": "stream",
     "text": [
      "[<img alt=\"\" class=\"attachment-full size-full wp-image-164\" decoding=\"async\" height=\"350\" src=\"https://smartinotek.com/wp-content/uploads/2023/06/3-1.png\" width=\"350\"/>, <img alt=\"\" class=\"attachment-full size-full wp-image-163\" decoding=\"async\" height=\"350\" src=\"https://smartinotek.com/wp-content/uploads/2023/06/2-1.png\" width=\"350\"/>, <img alt=\"\" class=\"attachment-full size-full wp-image-162\" decoding=\"async\" height=\"350\" src=\"https://smartinotek.com/wp-content/uploads/2023/06/1-1.png\" width=\"350\"/>, <img alt=\"\" class=\"attachment-full size-full wp-image-165\" decoding=\"async\" height=\"350\" loading=\"lazy\" src=\"https://smartinotek.com/wp-content/uploads/2023/06/4-1.png\" width=\"350\"/>, <img alt=\"\" class=\"attachment-large size-large wp-image-323\" decoding=\"async\" height=\"379\" loading=\"lazy\" src=\"https://smartinotek.com/wp-content/uploads/2023/06/timeline.png\" width=\"892\"/>, <img alt=\"\" class=\"attachment-full size-full wp-image-346\" decoding=\"async\" height=\"1080\" loading=\"lazy\" src=\"https://smartinotek.com/wp-content/uploads/2023/06/4-3.png\" width=\"1080\"/>, <img alt=\"\" class=\"attachment-full size-full wp-image-347\" decoding=\"async\" height=\"1080\" loading=\"lazy\" src=\"https://smartinotek.com/wp-content/uploads/2023/06/1-2.png\" width=\"1080\"/>, <img alt=\"\" class=\"attachment-full size-full wp-image-349\" decoding=\"async\" height=\"1080\" loading=\"lazy\" src=\"https://smartinotek.com/wp-content/uploads/2023/06/3-2.png\" width=\"1080\"/>, <img alt=\"\" class=\"attachment-full size-full wp-image-348\" decoding=\"async\" height=\"1080\" loading=\"lazy\" src=\"https://smartinotek.com/wp-content/uploads/2023/06/2-3.png\" width=\"1080\"/>]\n"
     ]
    }
   ],
   "source": [
    "import requests\n",
    "from bs4 import BeautifulSoup\n",
    "\n",
    "r = requests.get('https://proxyway.com/news')\n",
    "\n",
    "soup = BeautifulSoup(r.content, 'html.parser')\n",
    "\n",
    "s = soup.find('div', class_= 'entry-content')\n",
    "content = s.find_all('img')\n",
    "\n",
    "print(content)"
   ]
  },
  {
   "cell_type": "code",
   "execution_count": 20,
   "id": "cb08d8e2",
   "metadata": {},
   "outputs": [
    {
     "name": "stdout",
     "output_type": "stream",
     "text": [
      "{'src': 'https://proxyway.com/wp-content/uploads/2023/04/proxyway.svg?ver=1681290142', 'alt': 'Proxyway'}\n",
      "{'src': 'https://proxyway.com/wp-content/uploads/2023/04/Newsfeed-image-min.png', 'alt': 'Adam sitting in a chair reading a newspaper'}\n",
      "{'src': 'https://secure.gravatar.com/avatar/40de7ce27e119cfc9a04eef5e77cc6c2?s=96&r=g', 'alt': 'Adam Dubois'}\n",
      "{'src': 'https://proxyway.com/wp-content/uploads/2022/05/bright-data-logo.png?ver=1704718964', 'alt': 'Bright Data logo'}\n",
      "{'src': 'https://secure.gravatar.com/avatar/40de7ce27e119cfc9a04eef5e77cc6c2?s=96&r=g', 'alt': 'Adam Dubois'}\n",
      "{'src': 'https://proxyway.com/wp-content/uploads/2020/08/infatica-logo.png?ver=1704718655', 'alt': 'infatica logo'}\n",
      "{'src': 'https://secure.gravatar.com/avatar/40de7ce27e119cfc9a04eef5e77cc6c2?s=96&r=g', 'alt': 'Adam Dubois'}\n",
      "{'src': 'https://proxyway.com/wp-content/uploads/2022/07/rayobyte-logo.png?ver=1704718347', 'alt': 'rayobyte logo'}\n",
      "{'src': 'https://secure.gravatar.com/avatar/40de7ce27e119cfc9a04eef5e77cc6c2?s=96&r=g', 'alt': 'Adam Dubois'}\n",
      "{'src': 'https://proxyway.com/wp-content/uploads/2022/05/bright-data-logo.png?ver=1704718964', 'alt': 'Bright Data logo'}\n",
      "{'src': 'https://secure.gravatar.com/avatar/40de7ce27e119cfc9a04eef5e77cc6c2?s=96&r=g', 'alt': 'Adam Dubois'}\n",
      "{'src': 'https://proxyway.com/wp-content/uploads/2020/07/oxylabs-logo-png.png?ver=1704718753', 'alt': 'Oxylabs logo'}\n",
      "{'src': 'https://secure.gravatar.com/avatar/40de7ce27e119cfc9a04eef5e77cc6c2?s=96&r=g', 'alt': 'Adam Dubois'}\n",
      "{'src': 'https://proxyway.com/wp-content/uploads/2022/05/bright-data-logo.png?ver=1704718964', 'alt': 'Bright Data logo'}\n",
      "{'src': 'https://secure.gravatar.com/avatar/40de7ce27e119cfc9a04eef5e77cc6c2?s=96&r=g', 'alt': 'Adam Dubois'}\n",
      "{'src': 'https://proxyway.com/wp-content/uploads/2022/03/zyte-logo.png?ver=1704718975', 'alt': 'Zyte logo'}\n",
      "{'src': 'https://secure.gravatar.com/avatar/40de7ce27e119cfc9a04eef5e77cc6c2?s=96&r=g', 'alt': 'Adam Dubois'}\n",
      "{'src': 'https://proxyway.com/wp-content/uploads/2019/09/Smartproxy-Logo.png?ver=1704719397', 'alt': 'smartproxy-logo'}\n",
      "{'src': 'https://secure.gravatar.com/avatar/40de7ce27e119cfc9a04eef5e77cc6c2?s=96&r=g', 'alt': 'Adam Dubois'}\n",
      "{'src': 'https://proxyway.com/wp-content/uploads/2022/05/bright-data-logo.png?ver=1704718964', 'alt': 'Bright Data logo'}\n",
      "{'src': 'https://secure.gravatar.com/avatar/40de7ce27e119cfc9a04eef5e77cc6c2?s=96&r=g', 'alt': 'Adam Dubois'}\n",
      "{'src': 'https://proxyway.com/wp-content/uploads/2020/05/netnut-new-logo.png?ver=1704718543', 'alt': 'netnut-logo'}\n",
      "{'src': 'https://proxyway.com/wp-content/uploads/2024/02/cropped-timur-gok-small-1-96x96.jpeg', 'alt': 'Timur Gok'}\n",
      "{'src': 'https://proxyway.com/wp-content/uploads/2024/02/ping-proxies-logo-dark.png', 'alt': 'ping proxies logo dark'}\n",
      "{'src': 'https://secure.gravatar.com/avatar/40de7ce27e119cfc9a04eef5e77cc6c2?s=96&r=g', 'alt': 'Adam Dubois'}\n",
      "{'src': 'https://proxyway.com/wp-content/uploads/2022/05/bright-data-logo.png?ver=1704718964', 'alt': 'Bright Data logo'}\n",
      "{'src': 'https://proxyway.com/wp-content/uploads/2023/04/proxyway.svg?ver=1681290142', 'alt': 'Proxyway'}\n",
      "{'src': 'https://proxyway.com/wp-content/uploads/2021/05/smartproxy-1-e1621791073139.png', 'alt': ''}\n"
     ]
    }
   ],
   "source": [
    "import requests\n",
    "from bs4 import BeautifulSoup\n",
    "import csv\n",
    "\n",
    "url = 'https://proxyway.com/news'\n",
    "r = requests.get(url)\n",
    "\n",
    "soup = BeautifulSoup(r.content, 'html.parser')\n",
    "\n",
    "images_list = []\n",
    "\n",
    "images = soup.select('img')\n",
    "\n",
    "for image in images:\n",
    "    src = image.get('src')\n",
    "    alt = image.get('alt')\n",
    "    images_list.append({\"src\": src, \"alt\": alt})\n",
    "\n",
    "for image in images_list:\n",
    "    print(image)\n",
    "    \n",
    "with open('data gambar.csv' , 'w', encoding='UTF8') as f:\n",
    "    writer = csv.writer(f)\n",
    "    \n",
    "    writer.writerow(images_list)"
   ]
  },
  {
   "cell_type": "code",
   "execution_count": 11,
   "id": "2a825bc8",
   "metadata": {},
   "outputs": [
    {
     "name": "stdout",
     "output_type": "stream",
     "text": [
      "Bright Data Equalizes Residential and Mobile Proxy Rates\n",
      "Rayobyte Publishes a Whitepaper on Preventing Proxy Abuse\n",
      "ScrapeCon 2024: A Recap\n",
      "Infatica Makes Its Residential Proxies Up to 43% Cheaper\n",
      "Rayobyte Decreases Residential Proxy Prices, Moves to Subscription\n",
      "Bright Data’s ScrapeCon to Take Place on April 2\n",
      "Oxylabs Cuts Residential Proxy Rates by Up to 20%\n",
      "Bright Data Reduces Residential Proxy Prices by 20%\n",
      "Zyte Adds AI Scraping Functionality to Its API\n",
      "Smartproxy Slashes Residential Proxy Prices by Up to 25%\n",
      "Meta Drops the Case Against Bright Data\n",
      "NetNut Launches Website Unblocker, SERP API, Professional Datasets\n"
     ]
    }
   ],
   "source": [
    "import requests\n",
    "from bs4 import BeautifulSoup\n",
    "import csv\n",
    "\n",
    "url = 'https://proxyway.com/news'\n",
    "r = requests.get(url)\n",
    "\n",
    "if r.status_code == 200:\n",
    "    soup = BeautifulSoup(r.text, 'html.parser')\n",
    "    paragraphs = soup.find_all('h2')\n",
    "    \n",
    "    with open('subjudul.csv', 'w', newline='', encoding='UTF8') as f:\n",
    "        writer = csv.writer(f)\n",
    "        \n",
    "        for paragraph in paragraphs:\n",
    "            writer.writerow([paragraph.text])\n",
    "            print(paragraph.text)\n",
    "\n",
    "else:\n",
    "    print('Gagal mengambil halaman:', r.status_code)"
   ]
  },
  {
   "cell_type": "code",
   "execution_count": 1,
   "id": "5b5e43ca",
   "metadata": {},
   "outputs": [
    {
     "name": "stdout",
     "output_type": "stream",
     "text": [
      "In essence, the provider’s mobile proxies just got 65% cheaper.\n",
      "The document describes Rayobyte’s three-pronged approach against bad actors.\n",
      "Our impressions from Bright Data’s first virtual conference on web scraping.\n",
      "The provider’s plans now give significantly more traffic for the same price.\n",
      "The new rates are up to 50% cheaper in lower ranges.\n",
      "The rescheduled web scraping event will proceed in a week.\n",
      "The reduction affects three entry plans.\n",
      "The second round of price cuts continues.\n",
      "The tool can now crawl, unblock, and parse websites using AI and an optional no-code interface.\n",
      "It’s the second price cut in less than a year.\n",
      "The dispute results in a complete win for the data collection infrastructure provider.\n",
      "The Israeli proxy provider moves up the data extraction value chain.\n"
     ]
    }
   ],
   "source": [
    "import requests\n",
    "from bs4 import BeautifulSoup\n",
    "import csv\n",
    "\n",
    "url = 'https://proxyway.com/news'\n",
    "\n",
    "response = requests.get(url)\n",
    "\n",
    "if response.status_code == 200:\n",
    "    soup = BeautifulSoup(response.content, 'html.parser')\n",
    "    div_elements = soup.find_all('div', attrs={'data-widget_type': 'theme-post-excerpt.default'})\n",
    "\n",
    "    if div_elements:\n",
    "        \n",
    "        with open('keterangan.csv', 'w', newline='', encoding='utf-8') as csvfile:\n",
    "            csvwriter = csv.writer(csvfile)\n",
    "\n",
    "            for div_element in div_elements:\n",
    "                inner_div = div_element.find('div', class_='elementor-widget-container')\n",
    "                if inner_div:\n",
    "                    text_content = inner_div.get_text(strip=True)\n",
    "                    csvwriter.writerow([text_content])\n",
    "                    print(text_content)\n",
    "else:\n",
    "    print(f'Gagal mengambil halaman. Status code: {response.status_code}')\n"
   ]
  },
  {
   "cell_type": "code",
   "execution_count": null,
   "id": "c0e50fb3",
   "metadata": {},
   "outputs": [],
   "source": []
  }
 ],
 "metadata": {
  "kernelspec": {
   "display_name": "Python 3 (ipykernel)",
   "language": "python",
   "name": "python3"
  },
  "language_info": {
   "codemirror_mode": {
    "name": "ipython",
    "version": 3
   },
   "file_extension": ".py",
   "mimetype": "text/x-python",
   "name": "python",
   "nbconvert_exporter": "python",
   "pygments_lexer": "ipython3",
   "version": "3.11.5"
  }
 },
 "nbformat": 4,
 "nbformat_minor": 5
}
